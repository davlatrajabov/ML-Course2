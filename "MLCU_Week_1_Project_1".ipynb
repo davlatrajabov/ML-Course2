{
  "nbformat": 4,
  "nbformat_minor": 0,
  "metadata": {
    "colab": {
      "provenance": [],
      "collapsed_sections": [
        "oUw3fVoe1Y6P",
        "-TaBgJ9oKH2k",
        "zhhEF-iKZIqH",
        "0Ev6HiO5grMS",
        "Xv9mGgd19Gap"
      ],
      "include_colab_link": true
    },
    "kernelspec": {
      "name": "python3",
      "display_name": "Python 3"
    },
    "language_info": {
      "name": "python"
    }
  },
  "cells": [
    {
      "cell_type": "markdown",
      "metadata": {
        "id": "view-in-github",
        "colab_type": "text"
      },
      "source": [
        "<a href=\"https://colab.research.google.com/github/davlatrajabov/ML-Course2/blob/Project1/%22MLCU_Week_1_Project_1%22.ipynb\" target=\"_parent\"><img src=\"https://colab.research.google.com/assets/colab-badge.svg\" alt=\"Open In Colab\"/></a>"
      ]
    },
    {
      "cell_type": "code",
      "execution_count": 36,
      "metadata": {
        "id": "m0IYEkO03Kz6"
      },
      "outputs": [],
      "source": [
        "import warnings\n",
        "warnings.filterwarnings('ignore')\n",
        "import pandas as pd\n",
        "import matplotlib.pyplot as plt\n",
        "import seaborn as sns\n",
        "import os"
      ]
    },
    {
      "cell_type": "code",
      "source": [
        "os.chdir('/content/sample_data')"
      ],
      "metadata": {
        "id": "c8UUWmzx3Z0r"
      },
      "execution_count": 37,
      "outputs": []
    },
    {
      "cell_type": "code",
      "source": [
        "#read file\n",
        "df = pd.read_csv('/content/Salaries.csv', on_bad_lines='skip')"
      ],
      "metadata": {
        "id": "-xX4laEA3S_R"
      },
      "execution_count": null,
      "outputs": []
    },
    {
      "cell_type": "code",
      "source": [
        "df"
      ],
      "metadata": {
        "colab": {
          "base_uri": "https://localhost:8080/",
          "height": 800
        },
        "id": "2k6phJMTspty",
        "outputId": "938ed8f4-f2bb-4160-e0de-9cdf7cf23c5b"
      },
      "execution_count": 38,
      "outputs": [
        {
          "output_type": "execute_result",
          "data": {
            "text/plain": [
              "            Id       EmployeeName  \\\n",
              "0            1     NATHANIEL FORD   \n",
              "1            2       GARY JIMENEZ   \n",
              "2            3     ALBERT PARDINI   \n",
              "3            4  CHRISTOPHER CHONG   \n",
              "4            5    PATRICK GARDNER   \n",
              "...        ...                ...   \n",
              "277366  148646   Carolyn A Wilson   \n",
              "277368  148648     Joann Anderson   \n",
              "277369  148649        Leon Walker   \n",
              "277370  148650      Roy I Tillery   \n",
              "277374  148654          Joe Lopez   \n",
              "\n",
              "                                              JobTitle    BasePay OvertimePay  \\\n",
              "0       GENERAL MANAGER-METROPOLITAN TRANSIT AUTHORITY  167411.18         0.0   \n",
              "1                      CAPTAIN III (POLICE DEPARTMENT)  155966.02   245131.88   \n",
              "2                      CAPTAIN III (POLICE DEPARTMENT)  212739.13   106088.18   \n",
              "3                 WIRE ROPE CABLE MAINTENANCE MECHANIC    77916.0    56120.71   \n",
              "4         DEPUTY CHIEF OF DEPARTMENT,(FIRE DEPARTMENT)   134401.6      9737.0   \n",
              "...                                                ...        ...         ...   \n",
              "277366                       Human Services Technician       0.00        0.00   \n",
              "277368                     Communications Dispatcher 2       0.00        0.00   \n",
              "277369                                       Custodian       0.00        0.00   \n",
              "277370                                       Custodian       0.00        0.00   \n",
              "277374                      Counselor, Log Cabin Ranch       0.00        0.00   \n",
              "\n",
              "         OtherPay Benefits   TotalPay TotalPayBenefits    Year  ...  \\\n",
              "0       400184.25      NaN  567595.43        567595.43  2011.0  ...   \n",
              "1       137811.38      NaN  538909.28        538909.28  2011.0  ...   \n",
              "2         16452.6      NaN  335279.91        335279.91  2011.0  ...   \n",
              "3        198306.9      NaN  332343.61        332343.61  2011.0  ...   \n",
              "4       182234.59      NaN  326373.19        326373.19  2011.0  ...   \n",
              "...           ...      ...        ...              ...     ...  ...   \n",
              "277366       0.00     0.00        0.0              0.0    2014  ...   \n",
              "277368       0.00     0.00        0.0              0.0    2014  ...   \n",
              "277369       0.00     0.00        0.0              0.0    2014  ...   \n",
              "277370       0.00     0.00        0.0              0.0    2014  ...   \n",
              "277374    -618.13     0.00    -618.13          -618.13    2014  ...   \n",
              "\n",
              "       overtimepay_deviation overtimepay_deviation_sqr benifit_deviation  \\\n",
              "0                -4890.29814              2.391502e+07               NaN   \n",
              "1               240241.58186              5.771602e+10               NaN   \n",
              "2               101197.88186              1.024101e+10               NaN   \n",
              "3                51230.41186              2.624555e+09               NaN   \n",
              "4                 4846.70186              2.349052e+07               NaN   \n",
              "...                      ...                       ...               ...   \n",
              "277366           -4890.29814              2.391502e+07     -25010.776691   \n",
              "277368           -4890.29814              2.391502e+07     -25010.776691   \n",
              "277369           -4890.29814              2.391502e+07     -25010.776691   \n",
              "277370           -4890.29814              2.391502e+07     -25010.776691   \n",
              "277374           -4890.29814              2.391502e+07     -25010.776691   \n",
              "\n",
              "        benifit_deviation_sqr  totalpay_deviation  totalpay_deviation_sqr  \\\n",
              "0                         NaN       495027.247237            2.450520e+11   \n",
              "1                         NaN       466341.097237            2.174740e+11   \n",
              "2                         NaN       262711.727237            6.901745e+10   \n",
              "3                         NaN       259775.427237            6.748327e+10   \n",
              "4                         NaN       253805.007237            6.441698e+10   \n",
              "...                       ...                 ...                     ...   \n",
              "277366           6.255390e+08       -72568.182763            5.266141e+09   \n",
              "277368           6.255390e+08       -72568.182763            5.266141e+09   \n",
              "277369           6.255390e+08       -72568.182763            5.266141e+09   \n",
              "277370           6.255390e+08       -72568.182763            5.266141e+09   \n",
              "277374           6.255390e+08       -73186.312763            5.356236e+09   \n",
              "\n",
              "        totalpaybenifits_deviation  totalpaybenifits_deviation_sqr  \\\n",
              "0                    474745.242676                    2.253830e+11   \n",
              "1                    446059.092676                    1.989687e+11   \n",
              "2                    242429.722676                    5.877217e+10   \n",
              "3                    239493.422676                    5.735710e+10   \n",
              "4                    233523.002676                    5.453299e+10   \n",
              "...                            ...                             ...   \n",
              "277366               -92850.187324                    8.621157e+09   \n",
              "277368               -92850.187324                    8.621157e+09   \n",
              "277369               -92850.187324                    8.621157e+09   \n",
              "277370               -92850.187324                    8.621157e+09   \n",
              "277374               -93468.317324                    8.736326e+09   \n",
              "\n",
              "        year_deviation  year_deviation_sqr  \n",
              "0            -1.631963            2.663302  \n",
              "1            -1.631963            2.663302  \n",
              "2            -1.631963            2.663302  \n",
              "3            -1.631963            2.663302  \n",
              "4            -1.631963            2.663302  \n",
              "...                ...                 ...  \n",
              "277366        1.368037            1.871526  \n",
              "277368        1.368037            1.871526  \n",
              "277369        1.368037            1.871526  \n",
              "277370        1.368037            1.871526  \n",
              "277374        1.368037            1.871526  \n",
              "\n",
              "[277367 rows x 25 columns]"
            ],
            "text/html": [
              "\n",
              "\n",
              "  <div id=\"df-6d953b8c-5fbf-464f-a757-8ef81513f944\">\n",
              "    <div class=\"colab-df-container\">\n",
              "      <div>\n",
              "<style scoped>\n",
              "    .dataframe tbody tr th:only-of-type {\n",
              "        vertical-align: middle;\n",
              "    }\n",
              "\n",
              "    .dataframe tbody tr th {\n",
              "        vertical-align: top;\n",
              "    }\n",
              "\n",
              "    .dataframe thead th {\n",
              "        text-align: right;\n",
              "    }\n",
              "</style>\n",
              "<table border=\"1\" class=\"dataframe\">\n",
              "  <thead>\n",
              "    <tr style=\"text-align: right;\">\n",
              "      <th></th>\n",
              "      <th>Id</th>\n",
              "      <th>EmployeeName</th>\n",
              "      <th>JobTitle</th>\n",
              "      <th>BasePay</th>\n",
              "      <th>OvertimePay</th>\n",
              "      <th>OtherPay</th>\n",
              "      <th>Benefits</th>\n",
              "      <th>TotalPay</th>\n",
              "      <th>TotalPayBenefits</th>\n",
              "      <th>Year</th>\n",
              "      <th>...</th>\n",
              "      <th>overtimepay_deviation</th>\n",
              "      <th>overtimepay_deviation_sqr</th>\n",
              "      <th>benifit_deviation</th>\n",
              "      <th>benifit_deviation_sqr</th>\n",
              "      <th>totalpay_deviation</th>\n",
              "      <th>totalpay_deviation_sqr</th>\n",
              "      <th>totalpaybenifits_deviation</th>\n",
              "      <th>totalpaybenifits_deviation_sqr</th>\n",
              "      <th>year_deviation</th>\n",
              "      <th>year_deviation_sqr</th>\n",
              "    </tr>\n",
              "  </thead>\n",
              "  <tbody>\n",
              "    <tr>\n",
              "      <th>0</th>\n",
              "      <td>1</td>\n",
              "      <td>NATHANIEL FORD</td>\n",
              "      <td>GENERAL MANAGER-METROPOLITAN TRANSIT AUTHORITY</td>\n",
              "      <td>167411.18</td>\n",
              "      <td>0.0</td>\n",
              "      <td>400184.25</td>\n",
              "      <td>NaN</td>\n",
              "      <td>567595.43</td>\n",
              "      <td>567595.43</td>\n",
              "      <td>2011.0</td>\n",
              "      <td>...</td>\n",
              "      <td>-4890.29814</td>\n",
              "      <td>2.391502e+07</td>\n",
              "      <td>NaN</td>\n",
              "      <td>NaN</td>\n",
              "      <td>495027.247237</td>\n",
              "      <td>2.450520e+11</td>\n",
              "      <td>474745.242676</td>\n",
              "      <td>2.253830e+11</td>\n",
              "      <td>-1.631963</td>\n",
              "      <td>2.663302</td>\n",
              "    </tr>\n",
              "    <tr>\n",
              "      <th>1</th>\n",
              "      <td>2</td>\n",
              "      <td>GARY JIMENEZ</td>\n",
              "      <td>CAPTAIN III (POLICE DEPARTMENT)</td>\n",
              "      <td>155966.02</td>\n",
              "      <td>245131.88</td>\n",
              "      <td>137811.38</td>\n",
              "      <td>NaN</td>\n",
              "      <td>538909.28</td>\n",
              "      <td>538909.28</td>\n",
              "      <td>2011.0</td>\n",
              "      <td>...</td>\n",
              "      <td>240241.58186</td>\n",
              "      <td>5.771602e+10</td>\n",
              "      <td>NaN</td>\n",
              "      <td>NaN</td>\n",
              "      <td>466341.097237</td>\n",
              "      <td>2.174740e+11</td>\n",
              "      <td>446059.092676</td>\n",
              "      <td>1.989687e+11</td>\n",
              "      <td>-1.631963</td>\n",
              "      <td>2.663302</td>\n",
              "    </tr>\n",
              "    <tr>\n",
              "      <th>2</th>\n",
              "      <td>3</td>\n",
              "      <td>ALBERT PARDINI</td>\n",
              "      <td>CAPTAIN III (POLICE DEPARTMENT)</td>\n",
              "      <td>212739.13</td>\n",
              "      <td>106088.18</td>\n",
              "      <td>16452.6</td>\n",
              "      <td>NaN</td>\n",
              "      <td>335279.91</td>\n",
              "      <td>335279.91</td>\n",
              "      <td>2011.0</td>\n",
              "      <td>...</td>\n",
              "      <td>101197.88186</td>\n",
              "      <td>1.024101e+10</td>\n",
              "      <td>NaN</td>\n",
              "      <td>NaN</td>\n",
              "      <td>262711.727237</td>\n",
              "      <td>6.901745e+10</td>\n",
              "      <td>242429.722676</td>\n",
              "      <td>5.877217e+10</td>\n",
              "      <td>-1.631963</td>\n",
              "      <td>2.663302</td>\n",
              "    </tr>\n",
              "    <tr>\n",
              "      <th>3</th>\n",
              "      <td>4</td>\n",
              "      <td>CHRISTOPHER CHONG</td>\n",
              "      <td>WIRE ROPE CABLE MAINTENANCE MECHANIC</td>\n",
              "      <td>77916.0</td>\n",
              "      <td>56120.71</td>\n",
              "      <td>198306.9</td>\n",
              "      <td>NaN</td>\n",
              "      <td>332343.61</td>\n",
              "      <td>332343.61</td>\n",
              "      <td>2011.0</td>\n",
              "      <td>...</td>\n",
              "      <td>51230.41186</td>\n",
              "      <td>2.624555e+09</td>\n",
              "      <td>NaN</td>\n",
              "      <td>NaN</td>\n",
              "      <td>259775.427237</td>\n",
              "      <td>6.748327e+10</td>\n",
              "      <td>239493.422676</td>\n",
              "      <td>5.735710e+10</td>\n",
              "      <td>-1.631963</td>\n",
              "      <td>2.663302</td>\n",
              "    </tr>\n",
              "    <tr>\n",
              "      <th>4</th>\n",
              "      <td>5</td>\n",
              "      <td>PATRICK GARDNER</td>\n",
              "      <td>DEPUTY CHIEF OF DEPARTMENT,(FIRE DEPARTMENT)</td>\n",
              "      <td>134401.6</td>\n",
              "      <td>9737.0</td>\n",
              "      <td>182234.59</td>\n",
              "      <td>NaN</td>\n",
              "      <td>326373.19</td>\n",
              "      <td>326373.19</td>\n",
              "      <td>2011.0</td>\n",
              "      <td>...</td>\n",
              "      <td>4846.70186</td>\n",
              "      <td>2.349052e+07</td>\n",
              "      <td>NaN</td>\n",
              "      <td>NaN</td>\n",
              "      <td>253805.007237</td>\n",
              "      <td>6.441698e+10</td>\n",
              "      <td>233523.002676</td>\n",
              "      <td>5.453299e+10</td>\n",
              "      <td>-1.631963</td>\n",
              "      <td>2.663302</td>\n",
              "    </tr>\n",
              "    <tr>\n",
              "      <th>...</th>\n",
              "      <td>...</td>\n",
              "      <td>...</td>\n",
              "      <td>...</td>\n",
              "      <td>...</td>\n",
              "      <td>...</td>\n",
              "      <td>...</td>\n",
              "      <td>...</td>\n",
              "      <td>...</td>\n",
              "      <td>...</td>\n",
              "      <td>...</td>\n",
              "      <td>...</td>\n",
              "      <td>...</td>\n",
              "      <td>...</td>\n",
              "      <td>...</td>\n",
              "      <td>...</td>\n",
              "      <td>...</td>\n",
              "      <td>...</td>\n",
              "      <td>...</td>\n",
              "      <td>...</td>\n",
              "      <td>...</td>\n",
              "      <td>...</td>\n",
              "    </tr>\n",
              "    <tr>\n",
              "      <th>277366</th>\n",
              "      <td>148646</td>\n",
              "      <td>Carolyn A Wilson</td>\n",
              "      <td>Human Services Technician</td>\n",
              "      <td>0.00</td>\n",
              "      <td>0.00</td>\n",
              "      <td>0.00</td>\n",
              "      <td>0.00</td>\n",
              "      <td>0.0</td>\n",
              "      <td>0.0</td>\n",
              "      <td>2014</td>\n",
              "      <td>...</td>\n",
              "      <td>-4890.29814</td>\n",
              "      <td>2.391502e+07</td>\n",
              "      <td>-25010.776691</td>\n",
              "      <td>6.255390e+08</td>\n",
              "      <td>-72568.182763</td>\n",
              "      <td>5.266141e+09</td>\n",
              "      <td>-92850.187324</td>\n",
              "      <td>8.621157e+09</td>\n",
              "      <td>1.368037</td>\n",
              "      <td>1.871526</td>\n",
              "    </tr>\n",
              "    <tr>\n",
              "      <th>277368</th>\n",
              "      <td>148648</td>\n",
              "      <td>Joann Anderson</td>\n",
              "      <td>Communications Dispatcher 2</td>\n",
              "      <td>0.00</td>\n",
              "      <td>0.00</td>\n",
              "      <td>0.00</td>\n",
              "      <td>0.00</td>\n",
              "      <td>0.0</td>\n",
              "      <td>0.0</td>\n",
              "      <td>2014</td>\n",
              "      <td>...</td>\n",
              "      <td>-4890.29814</td>\n",
              "      <td>2.391502e+07</td>\n",
              "      <td>-25010.776691</td>\n",
              "      <td>6.255390e+08</td>\n",
              "      <td>-72568.182763</td>\n",
              "      <td>5.266141e+09</td>\n",
              "      <td>-92850.187324</td>\n",
              "      <td>8.621157e+09</td>\n",
              "      <td>1.368037</td>\n",
              "      <td>1.871526</td>\n",
              "    </tr>\n",
              "    <tr>\n",
              "      <th>277369</th>\n",
              "      <td>148649</td>\n",
              "      <td>Leon Walker</td>\n",
              "      <td>Custodian</td>\n",
              "      <td>0.00</td>\n",
              "      <td>0.00</td>\n",
              "      <td>0.00</td>\n",
              "      <td>0.00</td>\n",
              "      <td>0.0</td>\n",
              "      <td>0.0</td>\n",
              "      <td>2014</td>\n",
              "      <td>...</td>\n",
              "      <td>-4890.29814</td>\n",
              "      <td>2.391502e+07</td>\n",
              "      <td>-25010.776691</td>\n",
              "      <td>6.255390e+08</td>\n",
              "      <td>-72568.182763</td>\n",
              "      <td>5.266141e+09</td>\n",
              "      <td>-92850.187324</td>\n",
              "      <td>8.621157e+09</td>\n",
              "      <td>1.368037</td>\n",
              "      <td>1.871526</td>\n",
              "    </tr>\n",
              "    <tr>\n",
              "      <th>277370</th>\n",
              "      <td>148650</td>\n",
              "      <td>Roy I Tillery</td>\n",
              "      <td>Custodian</td>\n",
              "      <td>0.00</td>\n",
              "      <td>0.00</td>\n",
              "      <td>0.00</td>\n",
              "      <td>0.00</td>\n",
              "      <td>0.0</td>\n",
              "      <td>0.0</td>\n",
              "      <td>2014</td>\n",
              "      <td>...</td>\n",
              "      <td>-4890.29814</td>\n",
              "      <td>2.391502e+07</td>\n",
              "      <td>-25010.776691</td>\n",
              "      <td>6.255390e+08</td>\n",
              "      <td>-72568.182763</td>\n",
              "      <td>5.266141e+09</td>\n",
              "      <td>-92850.187324</td>\n",
              "      <td>8.621157e+09</td>\n",
              "      <td>1.368037</td>\n",
              "      <td>1.871526</td>\n",
              "    </tr>\n",
              "    <tr>\n",
              "      <th>277374</th>\n",
              "      <td>148654</td>\n",
              "      <td>Joe Lopez</td>\n",
              "      <td>Counselor, Log Cabin Ranch</td>\n",
              "      <td>0.00</td>\n",
              "      <td>0.00</td>\n",
              "      <td>-618.13</td>\n",
              "      <td>0.00</td>\n",
              "      <td>-618.13</td>\n",
              "      <td>-618.13</td>\n",
              "      <td>2014</td>\n",
              "      <td>...</td>\n",
              "      <td>-4890.29814</td>\n",
              "      <td>2.391502e+07</td>\n",
              "      <td>-25010.776691</td>\n",
              "      <td>6.255390e+08</td>\n",
              "      <td>-73186.312763</td>\n",
              "      <td>5.356236e+09</td>\n",
              "      <td>-93468.317324</td>\n",
              "      <td>8.736326e+09</td>\n",
              "      <td>1.368037</td>\n",
              "      <td>1.871526</td>\n",
              "    </tr>\n",
              "  </tbody>\n",
              "</table>\n",
              "<p>277367 rows × 25 columns</p>\n",
              "</div>\n",
              "      <button class=\"colab-df-convert\" onclick=\"convertToInteractive('df-6d953b8c-5fbf-464f-a757-8ef81513f944')\"\n",
              "              title=\"Convert this dataframe to an interactive table.\"\n",
              "              style=\"display:none;\">\n",
              "\n",
              "  <svg xmlns=\"http://www.w3.org/2000/svg\" height=\"24px\"viewBox=\"0 0 24 24\"\n",
              "       width=\"24px\">\n",
              "    <path d=\"M0 0h24v24H0V0z\" fill=\"none\"/>\n",
              "    <path d=\"M18.56 5.44l.94 2.06.94-2.06 2.06-.94-2.06-.94-.94-2.06-.94 2.06-2.06.94zm-11 1L8.5 8.5l.94-2.06 2.06-.94-2.06-.94L8.5 2.5l-.94 2.06-2.06.94zm10 10l.94 2.06.94-2.06 2.06-.94-2.06-.94-.94-2.06-.94 2.06-2.06.94z\"/><path d=\"M17.41 7.96l-1.37-1.37c-.4-.4-.92-.59-1.43-.59-.52 0-1.04.2-1.43.59L10.3 9.45l-7.72 7.72c-.78.78-.78 2.05 0 2.83L4 21.41c.39.39.9.59 1.41.59.51 0 1.02-.2 1.41-.59l7.78-7.78 2.81-2.81c.8-.78.8-2.07 0-2.86zM5.41 20L4 18.59l7.72-7.72 1.47 1.35L5.41 20z\"/>\n",
              "  </svg>\n",
              "      </button>\n",
              "\n",
              "\n",
              "\n",
              "    <div id=\"df-61de7713-8628-41f4-8d70-229cc9c79ed3\">\n",
              "      <button class=\"colab-df-quickchart\" onclick=\"quickchart('df-61de7713-8628-41f4-8d70-229cc9c79ed3')\"\n",
              "              title=\"Suggest charts.\"\n",
              "              style=\"display:none;\">\n",
              "\n",
              "<svg xmlns=\"http://www.w3.org/2000/svg\" height=\"24px\"viewBox=\"0 0 24 24\"\n",
              "     width=\"24px\">\n",
              "    <g>\n",
              "        <path d=\"M19 3H5c-1.1 0-2 .9-2 2v14c0 1.1.9 2 2 2h14c1.1 0 2-.9 2-2V5c0-1.1-.9-2-2-2zM9 17H7v-7h2v7zm4 0h-2V7h2v10zm4 0h-2v-4h2v4z\"/>\n",
              "    </g>\n",
              "</svg>\n",
              "      </button>\n",
              "    </div>\n",
              "\n",
              "<style>\n",
              "  .colab-df-quickchart {\n",
              "    background-color: #E8F0FE;\n",
              "    border: none;\n",
              "    border-radius: 50%;\n",
              "    cursor: pointer;\n",
              "    display: none;\n",
              "    fill: #1967D2;\n",
              "    height: 32px;\n",
              "    padding: 0 0 0 0;\n",
              "    width: 32px;\n",
              "  }\n",
              "\n",
              "  .colab-df-quickchart:hover {\n",
              "    background-color: #E2EBFA;\n",
              "    box-shadow: 0px 1px 2px rgba(60, 64, 67, 0.3), 0px 1px 3px 1px rgba(60, 64, 67, 0.15);\n",
              "    fill: #174EA6;\n",
              "  }\n",
              "\n",
              "  [theme=dark] .colab-df-quickchart {\n",
              "    background-color: #3B4455;\n",
              "    fill: #D2E3FC;\n",
              "  }\n",
              "\n",
              "  [theme=dark] .colab-df-quickchart:hover {\n",
              "    background-color: #434B5C;\n",
              "    box-shadow: 0px 1px 3px 1px rgba(0, 0, 0, 0.15);\n",
              "    filter: drop-shadow(0px 1px 2px rgba(0, 0, 0, 0.3));\n",
              "    fill: #FFFFFF;\n",
              "  }\n",
              "</style>\n",
              "\n",
              "    <script>\n",
              "      async function quickchart(key) {\n",
              "        const containerElement = document.querySelector('#' + key);\n",
              "        const charts = await google.colab.kernel.invokeFunction(\n",
              "            'suggestCharts', [key], {});\n",
              "      }\n",
              "    </script>\n",
              "\n",
              "      <script>\n",
              "\n",
              "function displayQuickchartButton(domScope) {\n",
              "  let quickchartButtonEl =\n",
              "    domScope.querySelector('#df-61de7713-8628-41f4-8d70-229cc9c79ed3 button.colab-df-quickchart');\n",
              "  quickchartButtonEl.style.display =\n",
              "    google.colab.kernel.accessAllowed ? 'block' : 'none';\n",
              "}\n",
              "\n",
              "        displayQuickchartButton(document);\n",
              "      </script>\n",
              "      <style>\n",
              "    .colab-df-container {\n",
              "      display:flex;\n",
              "      flex-wrap:wrap;\n",
              "      gap: 12px;\n",
              "    }\n",
              "\n",
              "    .colab-df-convert {\n",
              "      background-color: #E8F0FE;\n",
              "      border: none;\n",
              "      border-radius: 50%;\n",
              "      cursor: pointer;\n",
              "      display: none;\n",
              "      fill: #1967D2;\n",
              "      height: 32px;\n",
              "      padding: 0 0 0 0;\n",
              "      width: 32px;\n",
              "    }\n",
              "\n",
              "    .colab-df-convert:hover {\n",
              "      background-color: #E2EBFA;\n",
              "      box-shadow: 0px 1px 2px rgba(60, 64, 67, 0.3), 0px 1px 3px 1px rgba(60, 64, 67, 0.15);\n",
              "      fill: #174EA6;\n",
              "    }\n",
              "\n",
              "    [theme=dark] .colab-df-convert {\n",
              "      background-color: #3B4455;\n",
              "      fill: #D2E3FC;\n",
              "    }\n",
              "\n",
              "    [theme=dark] .colab-df-convert:hover {\n",
              "      background-color: #434B5C;\n",
              "      box-shadow: 0px 1px 3px 1px rgba(0, 0, 0, 0.15);\n",
              "      filter: drop-shadow(0px 1px 2px rgba(0, 0, 0, 0.3));\n",
              "      fill: #FFFFFF;\n",
              "    }\n",
              "  </style>\n",
              "\n",
              "      <script>\n",
              "        const buttonEl =\n",
              "          document.querySelector('#df-6d953b8c-5fbf-464f-a757-8ef81513f944 button.colab-df-convert');\n",
              "        buttonEl.style.display =\n",
              "          google.colab.kernel.accessAllowed ? 'block' : 'none';\n",
              "\n",
              "        async function convertToInteractive(key) {\n",
              "          const element = document.querySelector('#df-6d953b8c-5fbf-464f-a757-8ef81513f944');\n",
              "          const dataTable =\n",
              "            await google.colab.kernel.invokeFunction('convertToInteractive',\n",
              "                                                     [key], {});\n",
              "          if (!dataTable) return;\n",
              "\n",
              "          const docLinkHtml = 'Like what you see? Visit the ' +\n",
              "            '<a target=\"_blank\" href=https://colab.research.google.com/notebooks/data_table.ipynb>data table notebook</a>'\n",
              "            + ' to learn more about interactive tables.';\n",
              "          element.innerHTML = '';\n",
              "          dataTable['output_type'] = 'display_data';\n",
              "          await google.colab.output.renderOutput(dataTable, element);\n",
              "          const docLink = document.createElement('div');\n",
              "          docLink.innerHTML = docLinkHtml;\n",
              "          element.appendChild(docLink);\n",
              "        }\n",
              "      </script>\n",
              "    </div>\n",
              "  </div>\n"
            ]
          },
          "metadata": {},
          "execution_count": 38
        }
      ]
    },
    {
      "cell_type": "markdown",
      "source": [
        "# Removing NaN and Not Provided"
      ],
      "metadata": {
        "id": "oUw3fVoe1Y6P"
      }
    },
    {
      "cell_type": "code",
      "source": [
        "df = df[df['Benefits'] != 'Not Provided']\n",
        "benifit = df['Benefits'].dropna()\n",
        "benifit = pd.to_numeric(benifit, errors='coerce')"
      ],
      "metadata": {
        "id": "JTF2R-wa8bpb"
      },
      "execution_count": 39,
      "outputs": []
    },
    {
      "cell_type": "code",
      "source": [
        "basepay = df['BasePay'].dropna()\n",
        "basepay = pd.to_numeric(basepay, errors='coerce')"
      ],
      "metadata": {
        "id": "khnsrDTOpnBP"
      },
      "execution_count": 40,
      "outputs": []
    },
    {
      "cell_type": "code",
      "source": [
        "overtimepay = df['OvertimePay'].dropna()\n",
        "overtimepay = pd.to_numeric(overtimepay, errors='coerce')"
      ],
      "metadata": {
        "id": "RNJFHLDX3_bQ"
      },
      "execution_count": 41,
      "outputs": []
    },
    {
      "cell_type": "code",
      "source": [
        "totalpay = df['TotalPay'].dropna()\n",
        "totalpay = pd.to_numeric(totalpay, errors='coerce')"
      ],
      "metadata": {
        "id": "1vwjcH6A5oe5"
      },
      "execution_count": 42,
      "outputs": []
    },
    {
      "cell_type": "code",
      "source": [
        "totalpaybenifits = df['TotalPayBenefits'].dropna()\n",
        "totalpaybenifits = pd.to_numeric(totalpaybenifits, errors='coerce')"
      ],
      "metadata": {
        "id": "SnBLUhY15okx"
      },
      "execution_count": 43,
      "outputs": []
    },
    {
      "cell_type": "code",
      "source": [
        "year = df['Year'].dropna()\n",
        "year = pd.to_numeric(year, errors='coerce')"
      ],
      "metadata": {
        "id": "pQJsaksN6IVh"
      },
      "execution_count": 44,
      "outputs": []
    },
    {
      "cell_type": "markdown",
      "source": [
        "# Standard deviation and variance without (std() and variance())"
      ],
      "metadata": {
        "id": "-TaBgJ9oKH2k"
      }
    },
    {
      "cell_type": "markdown",
      "source": [
        "BasePay"
      ],
      "metadata": {
        "id": "Yx6WifZXR9wW"
      }
    },
    {
      "cell_type": "code",
      "source": [
        "df['basepay_deviation'] = basepay - basepay.mean()\n",
        "df['basepay_deviation_sqr'] = df['basepay_deviation']**2\n",
        "print(f\"deviation: {df['basepay_deviation'].sum()}\")\n",
        "print(f\"variance: {df['basepay_deviation_sqr'].sum()/len(df)}\")"
      ],
      "metadata": {
        "colab": {
          "base_uri": "https://localhost:8080/"
        },
        "id": "mT5K9O8IKc6b",
        "outputId": "64cb2bb5-8d0e-4908-8394-0178b7f20f9e"
      },
      "execution_count": 45,
      "outputs": [
        {
          "output_type": "stream",
          "name": "stdout",
          "text": [
            "deviation: 8.344650268554688e-06\n",
            "variance: 1842834349.7403204\n"
          ]
        }
      ]
    },
    {
      "cell_type": "markdown",
      "source": [
        "OvertimePay"
      ],
      "metadata": {
        "id": "dRDdv1QLSi3u"
      }
    },
    {
      "cell_type": "code",
      "source": [
        "df['overtimepay_deviation'] = overtimepay - overtimepay.mean()\n",
        "df['overtimepay_deviation_sqr'] = df['overtimepay_deviation']**2\n",
        "print(f\"deviation: {df['overtimepay_deviation'].sum()}\")\n",
        "print(f\"variance: {df['overtimepay_deviation_sqr'].sum()/len(df)}\")"
      ],
      "metadata": {
        "colab": {
          "base_uri": "https://localhost:8080/"
        },
        "id": "PY24HJb4RV0O",
        "outputId": "0b052c18-40ed-459e-dea4-c88d857c162a"
      },
      "execution_count": 46,
      "outputs": [
        {
          "output_type": "stream",
          "name": "stdout",
          "text": [
            "deviation: 1.7881393432617188e-07\n",
            "variance: 127615581.33362657\n"
          ]
        }
      ]
    },
    {
      "cell_type": "markdown",
      "source": [
        "Benefits"
      ],
      "metadata": {
        "id": "m8TFRpszTAfu"
      }
    },
    {
      "cell_type": "code",
      "source": [
        "df['benifit_deviation'] = benifit - benifit.mean()\n",
        "df['benifit_deviation_sqr'] = df['benifit_deviation']**2\n",
        "print(f\"deviation: {df['benifit_deviation'].sum()}\")\n",
        "print(f\"variance: {df['benifit_deviation_sqr'].sum()/len(df)}\")"
      ],
      "metadata": {
        "colab": {
          "base_uri": "https://localhost:8080/"
        },
        "id": "d68_i0fGRV-U",
        "outputId": "c0519afc-8fa8-4249-8b49-0ce3a784b0eb"
      },
      "execution_count": 47,
      "outputs": [
        {
          "output_type": "stream",
          "name": "stdout",
          "text": [
            "deviation: -2.9802322387695312e-08\n",
            "variance: 192699035.78534052\n"
          ]
        }
      ]
    },
    {
      "cell_type": "markdown",
      "source": [
        "TotalPay"
      ],
      "metadata": {
        "id": "UVrxbatmTcwN"
      }
    },
    {
      "cell_type": "code",
      "source": [
        "df['totalpay_deviation'] = totalpay - totalpay.mean()\n",
        "df['totalpay_deviation_sqr'] = df['totalpay_deviation']**2\n",
        "print(f\"deviation: {df['totalpay_deviation'].sum()}\")\n",
        "print(f\"variance: {df['totalpay_deviation_sqr'].sum()/len(df)}\")"
      ],
      "metadata": {
        "colab": {
          "base_uri": "https://localhost:8080/"
        },
        "id": "yi7ika13RWFk",
        "outputId": "2518fd42-02b4-46a9-f943-b954dfb40f3e"
      },
      "execution_count": 48,
      "outputs": [
        {
          "output_type": "stream",
          "name": "stdout",
          "text": [
            "deviation: 7.3909759521484375e-06\n",
            "variance: 2578149597.9695115\n"
          ]
        }
      ]
    },
    {
      "cell_type": "markdown",
      "source": [
        "TotalPayBenefits"
      ],
      "metadata": {
        "id": "fMKeCdU-UM_O"
      }
    },
    {
      "cell_type": "code",
      "source": [
        "df['totalpaybenifits_deviation'] = totalpaybenifits - totalpaybenifits.mean()\n",
        "df['totalpaybenifits_deviation_sqr'] = df['totalpaybenifits_deviation']**2\n",
        "print(f\"deviation: {df['totalpaybenifits_deviation'].sum()}\")\n",
        "print(f\"variance: {df['totalpaybenifits_deviation_sqr'].sum()/len(df)}\")"
      ],
      "metadata": {
        "colab": {
          "base_uri": "https://localhost:8080/"
        },
        "id": "5WXMH78QNjSe",
        "outputId": "0ea86c3a-70eb-440a-b26e-7dedf1b28dc6"
      },
      "execution_count": 49,
      "outputs": [
        {
          "output_type": "stream",
          "name": "stdout",
          "text": [
            "deviation: 7.510185241699219e-06\n",
            "variance: 4130734846.3563843\n"
          ]
        }
      ]
    },
    {
      "cell_type": "markdown",
      "source": [
        "Year"
      ],
      "metadata": {
        "id": "mYLRJw_iUeUe"
      }
    },
    {
      "cell_type": "code",
      "source": [
        "df['year_deviation'] = year - year.mean()\n",
        "df['year_deviation_sqr'] = df['year_deviation']**2\n",
        "print(f\"deviation: {df['year_deviation'].sum()}\")\n",
        "print(f\"variance: {df['year_deviation_sqr'].sum()/len(df)}\")"
      ],
      "metadata": {
        "colab": {
          "base_uri": "https://localhost:8080/"
        },
        "id": "3qK7SaIHUl-G",
        "outputId": "ca3f78bb-5d28-48cf-f94d-9c3d95ae406f"
      },
      "execution_count": 50,
      "outputs": [
        {
          "output_type": "stream",
          "name": "stdout",
          "text": [
            "deviation: -2.9296643333509564e-08\n",
            "variance: 1.1600473420883683\n"
          ]
        }
      ]
    },
    {
      "cell_type": "markdown",
      "source": [
        "With std() and variance()"
      ],
      "metadata": {
        "id": "7ryZZgyhKd7E"
      }
    },
    {
      "cell_type": "code",
      "source": [
        "# 2.Calculate standard deviation and variance by applying the methods (std() и variance())\n",
        "print(f'BasePay: std = {basepay.std()}, variance = {basepay.var()}')\n",
        "print(f'OvertimePay: std = {overtimepay.std()}, variance = {overtimepay.var()}')\n",
        "print(f'Benefits: std = {benifit.std()}, variance = {benifit.var()}')\n",
        "print(f'TotalPay: std = {totalpay.std()}, variance = {totalpay.var()}')\n",
        "print(f'TotalPayBenefits: std = {totalpaybenifits.std()}, variance = {totalpaybenifits.var()}')\n",
        "print(f'Year: std = {year.std()}, variance = {year.var()}')"
      ],
      "metadata": {
        "colab": {
          "base_uri": "https://localhost:8080/"
        },
        "id": "WwUj5VPtV81B",
        "outputId": "fa02a709-0793-46b5-f702-8696a2557963"
      },
      "execution_count": 51,
      "outputs": [
        {
          "output_type": "stream",
          "name": "stdout",
          "text": [
            "BasePay: std = 43022.42388118897, variance = 1850928956.6126993\n",
            "OvertimePay: std = 11296.767751795482, variance = 127616961.63800634\n",
            "Benefits: std = 15413.593314644164, variance = 237578858.86924326\n",
            "TotalPay: std = 50776.031448713125, variance = 2578205369.680704\n",
            "TotalPayBenefits: std = 64271.83585929522, variance = 4130868884.724187\n",
            "Year: std = 1.0770801805138195, variance = 1.1601017152556818\n"
          ]
        }
      ]
    },
    {
      "cell_type": "markdown",
      "source": [
        "# Сoefficient of covariance and range"
      ],
      "metadata": {
        "id": "zhhEF-iKZIqH"
      }
    },
    {
      "cell_type": "markdown",
      "source": [
        "Covariance"
      ],
      "metadata": {
        "id": "FGoAvGXzaV_o"
      }
    },
    {
      "cell_type": "code",
      "source": [
        "cVarOfBasePay = 100 * basepay.std()/basepay.mean()\n",
        "cVarOfOvertimePay = 100 * overtimepay.std()/overtimepay.mean()\n",
        "cVarOfBenefits = 100 * benifit.std()/benifit.mean()\n",
        "cVarOfTotalPay = 100 * totalpay.std()/totalpay.mean()\n",
        "cVarOfTotalPayBenefits = 100 * totalpaybenifits.std()/totalpaybenifits.mean()\n",
        "cVarOfYear = 100 * year.std()/year.mean()\n",
        "\n",
        "\n",
        "print(f\"cVarOfBasePay: {round(cVarOfBasePay, 2)}%\")\n",
        "print(f\"cVarOfOvertimePay: {round(cVarOfOvertimePay, 2)}%\")\n",
        "print(f\"cVarOfBenefits: {round(cVarOfBenefits, 2)}%\")\n",
        "print(f\"cVarOfTotalPay: {round(cVarOfTotalPay, 2)}%\")\n",
        "print(f\"cVarOfTotalPayBenefits: {round(cVarOfTotalPayBenefits, 2)}%\")\n",
        "print(f\"cVarOfYear: {round(cVarOfYear, 2)}%\")"
      ],
      "metadata": {
        "colab": {
          "base_uri": "https://localhost:8080/"
        },
        "id": "f36JvR2_ZRiu",
        "outputId": "3856d64d-4479-4c6a-c90a-43da12147d68"
      },
      "execution_count": 52,
      "outputs": [
        {
          "output_type": "stream",
          "name": "stdout",
          "text": [
            "cVarOfBasePay: 66.75%\n",
            "cVarOfOvertimePay: 231.0%\n",
            "cVarOfBenefits: 61.63%\n",
            "cVarOfTotalPay: 69.97%\n",
            "cVarOfTotalPayBenefits: 69.22%\n",
            "cVarOfYear: 0.05%\n"
          ]
        }
      ]
    },
    {
      "cell_type": "markdown",
      "source": [
        "Range"
      ],
      "metadata": {
        "id": "8r-besElaaT6"
      }
    },
    {
      "cell_type": "code",
      "source": [
        "rangeOfBasePay = basepay.max() - basepay.min()\n",
        "rangeOfOvertimePay = overtimepay.max() - overtimepay.min()\n",
        "rangeOfBenefits = benifit.max() - benifit.min()\n",
        "rangeOfTotalPay = totalpay.max() - totalpay.min()\n",
        "rangeOfTotalPayBenefits = totalpaybenifits.max() - totalpaybenifits.min()\n",
        "rangeOfYear = year.max() - year.min()\n",
        "\n",
        "\n",
        "print(f\"rangeOfBasePay: {rangeOfBasePay}\")\n",
        "print(f\"rangeOfOvertimePay: {rangeOfOvertimePay}\")\n",
        "print(f\"rangeOfBenefits: {rangeOfBenefits}\")\n",
        "print(f\"rangeOfTotalPay: {rangeOfTotalPay}\")\n",
        "print(f\"rangeOfTotalPayBenefits: {rangeOfTotalPayBenefits}\")\n",
        "print(f\"rangeOfYear: {rangeOfYear}\")"
      ],
      "metadata": {
        "colab": {
          "base_uri": "https://localhost:8080/"
        },
        "id": "6IKU0yAtadMw",
        "outputId": "1b0ae5b4-920b-4c59-a746-cc72eb560e9c"
      },
      "execution_count": 53,
      "outputs": [
        {
          "output_type": "stream",
          "name": "stdout",
          "text": [
            "rangeOfBasePay: 319441.02\n",
            "rangeOfOvertimePay: 245131.89\n",
            "rangeOfBenefits: 177167.56000000003\n",
            "rangeOfTotalPay: 568213.56\n",
            "rangeOfTotalPayBenefits: 568213.56\n",
            "rangeOfYear: 3.0\n"
          ]
        }
      ]
    },
    {
      "cell_type": "markdown",
      "source": [
        "# Calculate measures of central tendency"
      ],
      "metadata": {
        "id": "0Ev6HiO5grMS"
      }
    },
    {
      "cell_type": "markdown",
      "source": [
        "MEAN()"
      ],
      "metadata": {
        "id": "7xv3KlrZ5do4"
      }
    },
    {
      "cell_type": "code",
      "source": [
        "print(f\"meanOfBasePay: {round(basepay.mean(), 3)}\")\n",
        "print(f\"meanOfOvertimePay: {round(overtimepay.mean(), 3)}\")\n",
        "print(f\"meanOfBenefits: {round(benifit.mean(), 3)}\")\n",
        "print(f\"meanOfTotalPay: {round(totalpay.mean(), 3)}\")\n",
        "print(f\"meanOfTotalPayBenefits: {round(totalpaybenifits.mean(), 3)}\")\n",
        "print(f\"meanOfYear: {round(year.mean(), 3)}\")"
      ],
      "metadata": {
        "colab": {
          "base_uri": "https://localhost:8080/"
        },
        "id": "1c27oqC7ihp5",
        "outputId": "4a01dbf4-d07f-468a-c273-cc2fd2d29e92"
      },
      "execution_count": 54,
      "outputs": [
        {
          "output_type": "stream",
          "name": "stdout",
          "text": [
            "meanOfBasePay: 64452.738\n",
            "meanOfOvertimePay: 4890.298\n",
            "meanOfBenefits: 25010.777\n",
            "meanOfTotalPay: 72568.183\n",
            "meanOfTotalPayBenefits: 92850.187\n",
            "meanOfYear: 2012.632\n"
          ]
        }
      ]
    },
    {
      "cell_type": "markdown",
      "source": [
        "MEDIAN()"
      ],
      "metadata": {
        "id": "DpKvw5Gf5iZv"
      }
    },
    {
      "cell_type": "code",
      "source": [
        "print(f\"meanOfBasePay: {round(basepay.median(), 3)}\")\n",
        "print(f\"meanOfOvertimePay: {round(overtimepay.median(), 3)}\")\n",
        "print(f\"meanOfBenefits: {round(benifit.median(), 3)}\")\n",
        "print(f\"meanOfTotalPay: {round(totalpay.median(), 3)}\")\n",
        "print(f\"meanOfTotalPayBenefits: {round(totalpaybenifits.median(), 3)}\")\n",
        "print(f\"meanOfYear: {round(year.median(), 3)}\")"
      ],
      "metadata": {
        "colab": {
          "base_uri": "https://localhost:8080/"
        },
        "id": "chQUHvFE5lBv",
        "outputId": "934f8512-ad9f-4a2d-bdb1-ccf3182f558d"
      },
      "execution_count": 55,
      "outputs": [
        {
          "output_type": "stream",
          "name": "stdout",
          "text": [
            "meanOfBasePay: 63053.83\n",
            "meanOfOvertimePay: 0.0\n",
            "meanOfBenefits: 28628.68\n",
            "meanOfTotalPay: 68431.195\n",
            "meanOfTotalPayBenefits: 91872.55\n",
            "meanOfYear: 2013.0\n"
          ]
        }
      ]
    },
    {
      "cell_type": "markdown",
      "source": [
        "MODE()"
      ],
      "metadata": {
        "id": "axiJCAMK6apn"
      }
    },
    {
      "cell_type": "code",
      "source": [
        "print(f\"meanOfBasePay: {round(basepay.mode(), 3)}\")\n",
        "print(f\"meanOfOvertimePay: {round(overtimepay.mode(), 3)}\")\n",
        "print(f\"meanOfBenefits: {round(benifit.mode(), 3)}\")\n",
        "print(f\"meanOfTotalPay: {round(totalpay.mode(), 3)}\")\n",
        "print(f\"meanOfTotalPayBenefits: {round(totalpaybenifits.mode(), 3)}\")\n",
        "print(f\"meanOfYear: {round(year.mode(), 3)}\")"
      ],
      "metadata": {
        "colab": {
          "base_uri": "https://localhost:8080/"
        },
        "id": "xxN12j2Q6cw3",
        "outputId": "6c29521b-9c54-483c-8144-ce02cbda7611"
      },
      "execution_count": 56,
      "outputs": [
        {
          "output_type": "stream",
          "name": "stdout",
          "text": [
            "meanOfBasePay: 0    0.0\n",
            "Name: BasePay, dtype: float64\n",
            "meanOfOvertimePay: 0    0.0\n",
            "Name: OvertimePay, dtype: float64\n",
            "meanOfBenefits: 0    0.0\n",
            "Name: Benefits, dtype: float64\n",
            "meanOfTotalPay: 0    0.0\n",
            "Name: TotalPay, dtype: float64\n",
            "meanOfTotalPayBenefits: 0    7959.18\n",
            "Name: TotalPayBenefits, dtype: float64\n",
            "meanOfYear: 0    2014.0\n",
            "Name: Year, dtype: float64\n"
          ]
        }
      ]
    },
    {
      "cell_type": "markdown",
      "source": [
        "MIDRANGE"
      ],
      "metadata": {
        "id": "w5hIxnL764Uv"
      }
    },
    {
      "cell_type": "code",
      "source": [
        "midRangeOfBasePay = (basepay.max() + basepay.min())/2\n",
        "midRangeOfOvertimePay = (overtimepay.max() + overtimepay.min())/2\n",
        "midRangeOfBenefits = (benifit.max() + benifit.min())/2\n",
        "midRangeOfTotalPay = (totalpay.max() + totalpay.min())/2\n",
        "midRangeOfTotalPayBenefits = (totalpaybenifits.max() + totalpaybenifits.min())/2\n",
        "midRangeOfYear = (year.max() + year.min())/2\n",
        "\n",
        "\n",
        "print(f\"midRangeOfBasePay: {midRangeOfBasePay}\")\n",
        "print(f\"midRangeOfOvertimePay: {midRangeOfOvertimePay}\")\n",
        "print(f\"midRangeOfBenefits: {midRangeOfBenefits}\")\n",
        "print(f\"midRangeOfTotalPay: {midRangeOfTotalPay}\")\n",
        "print(f\"midRangeOfTotalPayBenefits: {midRangeOfTotalPayBenefits}\")\n",
        "print(f\"midRangeOfYear: {midRangeOfYear}\")"
      ],
      "metadata": {
        "colab": {
          "base_uri": "https://localhost:8080/"
        },
        "id": "RP7xa9yK67v-",
        "outputId": "734dbdc3-549b-4abf-add0-f84f530c3a91"
      },
      "execution_count": 57,
      "outputs": [
        {
          "output_type": "stream",
          "name": "stdout",
          "text": [
            "midRangeOfBasePay: 159554.5\n",
            "midRangeOfOvertimePay: 122565.935\n",
            "midRangeOfBenefits: 88549.89\n",
            "midRangeOfTotalPay: 283488.65\n",
            "midRangeOfTotalPayBenefits: 283488.65\n",
            "midRangeOfYear: 2012.5\n"
          ]
        }
      ]
    },
    {
      "cell_type": "markdown",
      "source": [
        "# Describe() method"
      ],
      "metadata": {
        "id": "Xv9mGgd19Gap"
      }
    },
    {
      "cell_type": "code",
      "source": [
        "basepay.describe()"
      ],
      "metadata": {
        "colab": {
          "base_uri": "https://localhost:8080/"
        },
        "id": "05E5xGO99zzk",
        "outputId": "1bcd8e63-a169-4686-96de-3f73af04d3a8"
      },
      "execution_count": 58,
      "outputs": [
        {
          "output_type": "execute_result",
          "data": {
            "text/plain": [
              "count    276155.000000\n",
              "mean      64452.738165\n",
              "std       43022.423881\n",
              "min        -166.010000\n",
              "25%       29068.200000\n",
              "50%       63053.830000\n",
              "75%       92989.930000\n",
              "max      319275.010000\n",
              "Name: BasePay, dtype: float64"
            ]
          },
          "metadata": {},
          "execution_count": 58
        }
      ]
    },
    {
      "cell_type": "code",
      "source": [
        "overtimepay.describe()"
      ],
      "metadata": {
        "colab": {
          "base_uri": "https://localhost:8080/"
        },
        "id": "26rcpRDC99oK",
        "outputId": "26c32039-079e-4fcb-d0ef-1e744917b25b"
      },
      "execution_count": 59,
      "outputs": [
        {
          "output_type": "execute_result",
          "data": {
            "text/plain": [
              "count    277365.000000\n",
              "mean       4890.298140\n",
              "std       11296.767752\n",
              "min          -0.010000\n",
              "25%           0.000000\n",
              "50%           0.000000\n",
              "75%        4272.050000\n",
              "max      245131.880000\n",
              "Name: OvertimePay, dtype: float64"
            ]
          },
          "metadata": {},
          "execution_count": 59
        }
      ]
    },
    {
      "cell_type": "code",
      "source": [
        "benifit.describe()"
      ],
      "metadata": {
        "colab": {
          "base_uri": "https://localhost:8080/"
        },
        "id": "UCLa2Uty-BUR",
        "outputId": "c8846723-3547-499f-aec5-ce48191868cd"
      },
      "execution_count": 60,
      "outputs": [
        {
          "output_type": "execute_result",
          "data": {
            "text/plain": [
              "count    224972.000000\n",
              "mean      25010.776691\n",
              "std       15413.593315\n",
              "min         -33.890000\n",
              "25%       11534.990000\n",
              "50%       28628.680000\n",
              "75%       35566.990000\n",
              "max      177133.670000\n",
              "Name: Benefits, dtype: float64"
            ]
          },
          "metadata": {},
          "execution_count": 60
        }
      ]
    },
    {
      "cell_type": "code",
      "source": [
        "totalpay.describe()"
      ],
      "metadata": {
        "colab": {
          "base_uri": "https://localhost:8080/"
        },
        "id": "n4hCK8F_-BXL",
        "outputId": "5735a529-f84d-4ca1-c77a-79cf0dd06d30"
      },
      "execution_count": 61,
      "outputs": [
        {
          "output_type": "execute_result",
          "data": {
            "text/plain": [
              "count    277362.000000\n",
              "mean      72568.182763\n",
              "std       50776.031449\n",
              "min        -618.130000\n",
              "25%       31231.590000\n",
              "50%       68431.195000\n",
              "75%      103525.580000\n",
              "max      567595.430000\n",
              "Name: TotalPay, dtype: float64"
            ]
          },
          "metadata": {},
          "execution_count": 61
        }
      ]
    },
    {
      "cell_type": "code",
      "source": [
        "totalpaybenifits.describe()"
      ],
      "metadata": {
        "colab": {
          "base_uri": "https://localhost:8080/"
        },
        "id": "Fxq6RBu8-Bb5",
        "outputId": "0ce8deda-4464-43a4-ba5f-fe3cf33be5a4"
      },
      "execution_count": 62,
      "outputs": [
        {
          "output_type": "execute_result",
          "data": {
            "text/plain": [
              "count    277359.000000\n",
              "mean      92850.187324\n",
              "std       64271.835859\n",
              "min        -618.130000\n",
              "25%       38033.490000\n",
              "50%       91872.550000\n",
              "75%      133716.490000\n",
              "max      567595.430000\n",
              "Name: TotalPayBenefits, dtype: float64"
            ]
          },
          "metadata": {},
          "execution_count": 62
        }
      ]
    },
    {
      "cell_type": "code",
      "source": [
        "year.describe()"
      ],
      "metadata": {
        "colab": {
          "base_uri": "https://localhost:8080/"
        },
        "id": "qaNwkJQA-BsQ",
        "outputId": "db6633b7-116a-4915-bfcb-d2b5433ecf12"
      },
      "execution_count": 63,
      "outputs": [
        {
          "output_type": "execute_result",
          "data": {
            "text/plain": [
              "count    277355.000000\n",
              "mean       2012.631963\n",
              "std           1.077080\n",
              "min        2011.000000\n",
              "25%        2012.000000\n",
              "50%        2013.000000\n",
              "75%        2014.000000\n",
              "max        2014.000000\n",
              "Name: Year, dtype: float64"
            ]
          },
          "metadata": {},
          "execution_count": 63
        }
      ]
    },
    {
      "cell_type": "code",
      "source": [
        "year.astype('O')"
      ],
      "metadata": {
        "colab": {
          "base_uri": "https://localhost:8080/"
        },
        "id": "CE_Tq1WyG6qy",
        "outputId": "220e853e-d572-40dc-f97b-0a53ccdd185d"
      },
      "execution_count": 64,
      "outputs": [
        {
          "output_type": "execute_result",
          "data": {
            "text/plain": [
              "0         2011.0\n",
              "1         2011.0\n",
              "2         2011.0\n",
              "3         2011.0\n",
              "4         2011.0\n",
              "           ...  \n",
              "277366    2014.0\n",
              "277368    2014.0\n",
              "277369    2014.0\n",
              "277370    2014.0\n",
              "277374    2014.0\n",
              "Name: Year, Length: 277358, dtype: object"
            ]
          },
          "metadata": {},
          "execution_count": 64
        }
      ]
    },
    {
      "cell_type": "markdown",
      "source": [
        "# `Histograms`"
      ],
      "metadata": {
        "id": "ErxBzk5LAqxh"
      }
    },
    {
      "cell_type": "markdown",
      "source": [],
      "metadata": {
        "id": "E8NrhxmlBV8_"
      }
    },
    {
      "cell_type": "code",
      "source": [
        "y2013 = pd.Index(year).get_loc(2013.0)\n",
        "y2014 = pd.Index(year).get_loc(2014.0)"
      ],
      "metadata": {
        "id": "hehzDqVQBE1B"
      },
      "execution_count": 65,
      "outputs": []
    },
    {
      "cell_type": "code",
      "source": [
        "x1 = [i for i in range(0, y2013.start)]\n",
        "y = overtimepay[:y2013.start]\n",
        "plt.plot(x1, y, color='blue', label='2012')\n",
        "\n",
        "x2 = [i for i in range(y2013.start, y2014.start)]\n",
        "y = overtimepay[y2013.start:y2014.start]\n",
        "plt.plot(x2, y, color='red', label='2013')\n",
        "\n",
        "x3 = [i for i in range(y2014.start, y2014.stop)]\n",
        "y = overtimepay[y2014.start:y2014.stop]\n",
        "plt.plot(x3, y, color='yellow', label='2014')\n",
        "\n",
        "plt.ylabel(\"OvertimePay\")\n",
        "\n",
        "plt.legend(loc='upper right')"
      ],
      "metadata": {
        "colab": {
          "base_uri": "https://localhost:8080/",
          "height": 235
        },
        "id": "ijerKtboBTaT",
        "outputId": "dc5f84c0-051c-4e71-cb4d-12aec3bab390"
      },
      "execution_count": 66,
      "outputs": [
        {
          "output_type": "error",
          "ename": "AttributeError",
          "evalue": "ignored",
          "traceback": [
            "\u001b[0;31m---------------------------------------------------------------------------\u001b[0m",
            "\u001b[0;31mAttributeError\u001b[0m                            Traceback (most recent call last)",
            "\u001b[0;32m<ipython-input-66-12b06d45b163>\u001b[0m in \u001b[0;36m<cell line: 1>\u001b[0;34m()\u001b[0m\n\u001b[0;32m----> 1\u001b[0;31m \u001b[0mx1\u001b[0m \u001b[0;34m=\u001b[0m \u001b[0;34m[\u001b[0m\u001b[0mi\u001b[0m \u001b[0;32mfor\u001b[0m \u001b[0mi\u001b[0m \u001b[0;32min\u001b[0m \u001b[0mrange\u001b[0m\u001b[0;34m(\u001b[0m\u001b[0;36m0\u001b[0m\u001b[0;34m,\u001b[0m \u001b[0my2013\u001b[0m\u001b[0;34m.\u001b[0m\u001b[0mstart\u001b[0m\u001b[0;34m)\u001b[0m\u001b[0;34m]\u001b[0m\u001b[0;34m\u001b[0m\u001b[0;34m\u001b[0m\u001b[0m\n\u001b[0m\u001b[1;32m      2\u001b[0m \u001b[0my\u001b[0m \u001b[0;34m=\u001b[0m \u001b[0movertimepay\u001b[0m\u001b[0;34m[\u001b[0m\u001b[0;34m:\u001b[0m\u001b[0my2013\u001b[0m\u001b[0;34m.\u001b[0m\u001b[0mstart\u001b[0m\u001b[0;34m]\u001b[0m\u001b[0;34m\u001b[0m\u001b[0;34m\u001b[0m\u001b[0m\n\u001b[1;32m      3\u001b[0m \u001b[0mplt\u001b[0m\u001b[0;34m.\u001b[0m\u001b[0mplot\u001b[0m\u001b[0;34m(\u001b[0m\u001b[0mx1\u001b[0m\u001b[0;34m,\u001b[0m \u001b[0my\u001b[0m\u001b[0;34m,\u001b[0m \u001b[0mcolor\u001b[0m\u001b[0;34m=\u001b[0m\u001b[0;34m'blue'\u001b[0m\u001b[0;34m,\u001b[0m \u001b[0mlabel\u001b[0m\u001b[0;34m=\u001b[0m\u001b[0;34m'2012'\u001b[0m\u001b[0;34m)\u001b[0m\u001b[0;34m\u001b[0m\u001b[0;34m\u001b[0m\u001b[0m\n\u001b[1;32m      4\u001b[0m \u001b[0;34m\u001b[0m\u001b[0m\n\u001b[1;32m      5\u001b[0m \u001b[0mx2\u001b[0m \u001b[0;34m=\u001b[0m \u001b[0;34m[\u001b[0m\u001b[0mi\u001b[0m \u001b[0;32mfor\u001b[0m \u001b[0mi\u001b[0m \u001b[0;32min\u001b[0m \u001b[0mrange\u001b[0m\u001b[0;34m(\u001b[0m\u001b[0my2013\u001b[0m\u001b[0;34m.\u001b[0m\u001b[0mstart\u001b[0m\u001b[0;34m,\u001b[0m \u001b[0my2014\u001b[0m\u001b[0;34m.\u001b[0m\u001b[0mstart\u001b[0m\u001b[0;34m)\u001b[0m\u001b[0;34m]\u001b[0m\u001b[0;34m\u001b[0m\u001b[0;34m\u001b[0m\u001b[0m\n",
            "\u001b[0;31mAttributeError\u001b[0m: 'numpy.ndarray' object has no attribute 'start'"
          ]
        }
      ]
    },
    {
      "cell_type": "markdown",
      "source": [],
      "metadata": {
        "id": "C7Zu3oofLEjT"
      }
    },
    {
      "cell_type": "markdown",
      "source": [],
      "metadata": {
        "id": "sf0VYIQc9Ydg"
      }
    },
    {
      "cell_type": "markdown",
      "source": [
        "\n",
        "The following instructions must be applied to columns columns BasePay, OvertimePay, Benefits, TotalPay, TotalPayBenefits, Year\n",
        "1.  Calculate standard deviation and variance without applying the methods (std() и variance())\n",
        "2.   Calculate standard deviation and variance by applying the methods (std() и variance())\n",
        "3. Calculate coefficient of covariance and range\n",
        "4. Calculate measures of central tendency\n",
        "5. Apply describe() method\n",
        "6. Build histograms\n",
        "7. Build boxplots\n",
        "8. Calculate IQR\n",
        "8. Write a short summary of your findings (no more than 100 words). Are there any outliers? Anything special?\n",
        "\n"
      ],
      "metadata": {
        "id": "fElapCHF4zk2"
      }
    },
    {
      "cell_type": "markdown",
      "source": [],
      "metadata": {
        "id": "h9u_p1Nz4yPs"
      }
    }
  ]
}